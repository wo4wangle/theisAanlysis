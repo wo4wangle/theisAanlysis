{
 "cells": [
  {
   "cell_type": "code",
   "execution_count": 1,
   "metadata": {},
   "outputs": [],
   "source": [
    "def load_data():\n",
    "    f_train_label = open('C://Juntun//train_label.txt', 'r', encoding='utf-8')\n",
    "    train_label = list(map(int, f_train_label.read()))\n",
    "    f_train_label.close()\n",
    "\n",
    "    train_data = []\n",
    "    f_train_data = open('C://Juntun//train_data.txt', 'r', encoding='utf-8')\n",
    "    cnt = 0\n",
    "    while True:\n",
    "        s = f_train_data.readline()\n",
    "        if s == '':\n",
    "            break\n",
    "        train_data.append(list(map(int, s.strip().split())))\n",
    "        cnt += 1\n",
    "        if cnt % 4000 == 0:\n",
    "            print('.', end='')\n",
    "    f_train_data.close()\n",
    "    print('\\n训练数据读取完毕')\n",
    "\n",
    "    f_test_label = open('C://Juntun//test_label.txt', 'r', encoding='utf-8')\n",
    "    test_label = list(map(int, f_test_label.read()))\n",
    "    f_test_label.close()\n",
    "\n",
    "    f_test_data = open('C://Juntun//test_data.txt', 'r', encoding='utf-8')\n",
    "    test_data = []\n",
    "    cnt = 0\n",
    "    while True:\n",
    "        s = f_test_data.readline()\n",
    "        if s == '':\n",
    "            break\n",
    "        test_data.append(list(map(int, s.strip().split())))\n",
    "        cnt += 1\n",
    "        if cnt % 1000 == 0:\n",
    "            print('.', end='')\n",
    "    f_test_data.close()\n",
    "    print('\\n测试数据读取完毕')\n",
    "\n",
    "    return (train_data, train_label), (test_data, test_label)\n"
   ]
  },
  {
   "cell_type": "code",
   "execution_count": 2,
   "metadata": {},
   "outputs": [
    {
     "name": "stdout",
     "output_type": "stream",
     "text": [
      "..........\n",
      "训练数据读取完毕\n",
      "..........\n",
      "测试数据读取完毕\n"
     ]
    }
   ],
   "source": [
    "(train_data, train_labels), (test_data, test_labels) = load_data()"
   ]
  },
  {
   "cell_type": "code",
   "execution_count": 3,
   "metadata": {},
   "outputs": [],
   "source": [
    "import numpy as np\n",
    "def vectorize_sequences(sequences, dimension=10000):\n",
    "    results = np.zeros((len(sequences), dimension))\n",
    "    for i, sequence in enumerate(sequences):\n",
    "        results[i, sequence] = 1.\n",
    "    return results\n",
    "x_train = vectorize_sequences(train_data)\n",
    "x_test = vectorize_sequences(test_data)"
   ]
  },
  {
   "cell_type": "code",
   "execution_count": 4,
   "metadata": {},
   "outputs": [
    {
     "name": "stderr",
     "output_type": "stream",
     "text": [
      "C:\\ProgramData\\Anaconda3\\lib\\site-packages\\h5py\\__init__.py:36: FutureWarning: Conversion of the second argument of issubdtype from `float` to `np.floating` is deprecated. In future, it will be treated as `np.float64 == np.dtype(float).type`.\n",
      "  from ._conv import register_converters as _register_converters\n",
      "Using TensorFlow backend.\n"
     ]
    }
   ],
   "source": [
    "from keras.utils.np_utils import to_categorical\n",
    "one_hot_train_labels = to_categorical(train_labels)\n",
    "one_hot_test_labels = to_categorical(test_labels)"
   ]
  },
  {
   "cell_type": "code",
   "execution_count": 6,
   "metadata": {},
   "outputs": [],
   "source": [
    "from keras import models\n",
    "from keras import layers\n",
    "model = models.Sequential()\n",
    "model.add(layers.Dense(64, activation='relu', input_shape=(10000,)))\n",
    "model.add(layers.Dense(64, activation='relu'))\n",
    "model.add(layers.Dense(10, activation='softmax'))"
   ]
  },
  {
   "cell_type": "code",
   "execution_count": 7,
   "metadata": {},
   "outputs": [],
   "source": [
    "model.compile(optimizer='rmsprop',\n",
    "loss='categorical_crossentropy',\n",
    "metrics=['accuracy'])"
   ]
  },
  {
   "cell_type": "code",
   "execution_count": 8,
   "metadata": {},
   "outputs": [],
   "source": [
    "x_val = x_train[:10000]\n",
    "partial_x_train = x_train[10000:]\n",
    "y_val = one_hot_train_labels[:10000]\n",
    "partial_y_train = one_hot_train_labels[10000:]"
   ]
  },
  {
   "cell_type": "code",
   "execution_count": 9,
   "metadata": {},
   "outputs": [
    {
     "name": "stdout",
     "output_type": "stream",
     "text": [
      "Train on 30000 samples, validate on 10000 samples\n",
      "Epoch 1/20\n",
      "30000/30000 [==============================] - 7s 246us/step - loss: 0.5829 - acc: 0.8875 - val_loss: 0.2044 - val_acc: 0.9586\n",
      "Epoch 2/20\n",
      "30000/30000 [==============================] - 7s 225us/step - loss: 0.1081 - acc: 0.9796 - val_loss: 0.1471 - val_acc: 0.9634\n",
      "Epoch 3/20\n",
      "30000/30000 [==============================] - 7s 224us/step - loss: 0.0407 - acc: 0.9928 - val_loss: 0.1167 - val_acc: 0.9702\n",
      "Epoch 4/20\n",
      "30000/30000 [==============================] - 7s 226us/step - loss: 0.0152 - acc: 0.9979 - val_loss: 0.1557 - val_acc: 0.9648\n",
      "Epoch 5/20\n",
      "30000/30000 [==============================] - 7s 232us/step - loss: 0.0075 - acc: 0.9992 - val_loss: 0.1747 - val_acc: 0.9630\n",
      "Epoch 6/20\n",
      "30000/30000 [==============================] - 7s 226us/step - loss: 0.0040 - acc: 0.9993 - val_loss: 0.1364 - val_acc: 0.9719\n",
      "Epoch 7/20\n",
      "30000/30000 [==============================] - 7s 226us/step - loss: 0.0031 - acc: 0.9995 - val_loss: 0.1379 - val_acc: 0.9725\n",
      "Epoch 8/20\n",
      "30000/30000 [==============================] - 7s 238us/step - loss: 0.0034 - acc: 0.9993 - val_loss: 0.1513 - val_acc: 0.9710\n",
      "Epoch 9/20\n",
      "30000/30000 [==============================] - 7s 230us/step - loss: 0.0019 - acc: 0.9996 - val_loss: 0.1549 - val_acc: 0.9701\n",
      "Epoch 10/20\n",
      "30000/30000 [==============================] - 7s 230us/step - loss: 0.0019 - acc: 0.9997 - val_loss: 0.1739 - val_acc: 0.9681\n",
      "Epoch 11/20\n",
      "30000/30000 [==============================] - 8s 250us/step - loss: 0.0016 - acc: 0.9997 - val_loss: 0.1652 - val_acc: 0.9707\n",
      "Epoch 12/20\n",
      "30000/30000 [==============================] - 9s 295us/step - loss: 0.0012 - acc: 0.9997 - val_loss: 0.1715 - val_acc: 0.9714\n",
      "Epoch 13/20\n",
      "30000/30000 [==============================] - 8s 278us/step - loss: 0.0016 - acc: 0.9998 - val_loss: 0.1798 - val_acc: 0.9707\n",
      "Epoch 14/20\n",
      "30000/30000 [==============================] - 8s 271us/step - loss: 0.0018 - acc: 0.9999 - val_loss: 0.1815 - val_acc: 0.9708\n",
      "Epoch 15/20\n",
      "30000/30000 [==============================] - 8s 270us/step - loss: 0.0014 - acc: 0.9998 - val_loss: 0.1836 - val_acc: 0.9710\n",
      "Epoch 16/20\n",
      "30000/30000 [==============================] - 7s 242us/step - loss: 7.1557e-04 - acc: 0.9999 - val_loss: 0.1864 - val_acc: 0.9699\n",
      "Epoch 17/20\n",
      "30000/30000 [==============================] - 7s 242us/step - loss: 0.0011 - acc: 0.9998 - val_loss: 0.1882 - val_acc: 0.9715\n",
      "Epoch 18/20\n",
      "30000/30000 [==============================] - 7s 235us/step - loss: 8.0139e-04 - acc: 0.9999 - val_loss: 0.1900 - val_acc: 0.9705\n",
      "Epoch 19/20\n",
      "30000/30000 [==============================] - 7s 234us/step - loss: 0.0010 - acc: 0.9998 - val_loss: 0.2022 - val_acc: 0.9701\n",
      "Epoch 20/20\n",
      "30000/30000 [==============================] - 7s 234us/step - loss: 2.8038e-04 - acc: 0.9999 - val_loss: 0.2291 - val_acc: 0.9664\n"
     ]
    }
   ],
   "source": [
    "history = model.fit(partial_x_train,\n",
    "partial_y_train,\n",
    "epochs=20,\n",
    "batch_size=512,\n",
    "validation_data=(x_val, y_val))"
   ]
  },
  {
   "cell_type": "code",
   "execution_count": 11,
   "metadata": {},
   "outputs": [],
   "source": [
    "model.save('C://Juntun//theme_weight.h5')"
   ]
  },
  {
   "cell_type": "code",
   "execution_count": null,
   "metadata": {},
   "outputs": [],
   "source": []
  }
 ],
 "metadata": {
  "kernelspec": {
   "display_name": "Python 3",
   "language": "python",
   "name": "python3"
  },
  "language_info": {
   "codemirror_mode": {
    "name": "ipython",
    "version": 3
   },
   "file_extension": ".py",
   "mimetype": "text/x-python",
   "name": "python",
   "nbconvert_exporter": "python",
   "pygments_lexer": "ipython3",
   "version": "3.6.5"
  }
 },
 "nbformat": 4,
 "nbformat_minor": 2
}
